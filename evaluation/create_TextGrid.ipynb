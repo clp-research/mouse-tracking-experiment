{
 "cells": [
  {
   "cell_type": "markdown",
   "metadata": {},
   "source": [
    "# TextGrid creation for mouse tracking data"
   ]
  },
  {
   "cell_type": "markdown",
   "metadata": {},
   "source": [
    "## import modules"
   ]
  },
  {
   "cell_type": "code",
   "execution_count": 1,
   "metadata": {},
   "outputs": [],
   "source": [
    "%matplotlib inline\n",
    "import pandas as pd\n",
    "import matplotlib\n",
    "import matplotlib.pyplot as plt\n",
    "import numpy as np\n",
    "from json import load\n",
    "import os\n",
    "import tgt"
   ]
  },
  {
   "cell_type": "markdown",
   "metadata": {},
   "source": [
    "## functions from the evaluation notebook"
   ]
  },
  {
   "cell_type": "code",
   "execution_count": 2,
   "metadata": {},
   "outputs": [],
   "source": [
    "def find_file(suffix, path):\n",
    "    \"\"\"\n",
    "    return the filename of the log file\n",
    "    \"\"\"\n",
    "    result_files = []\n",
    "    for root, dirs, files in os.walk(path):\n",
    "        for file in [f for f in files if f.endswith(suffix)]:\n",
    "            result_files.append(file)\n",
    "    return result_files\n",
    "        \n",
    "def read_file(path):\n",
    "    \"\"\"\n",
    "    return content of log file\n",
    "    \"\"\"\n",
    "    with open(path) as raw_jfile:\n",
    "        content = load(raw_jfile)\n",
    "        return content\n",
    "    \n",
    "def crop_list(lst):\n",
    "    \"\"\"\n",
    "    remove entries from log file before the game starts and after the game is finished\n",
    "    return cropped file as list\n",
    "    \"\"\"\n",
    "    sub_lst = []\n",
    "    for entry in lst:\n",
    "        try:\n",
    "            if entry[\"msg\"] == \"Game started!\" and entry[\"user\"][\"name\"]==\"Image_Click_Bot\":\n",
    "                sub_lst = lst[lst.index(entry):]\n",
    "            if \"no images left\" in entry[\"msg\"].lower() and entry[\"user\"][\"name\"]==\"Image_Click_Bot\":\n",
    "                sub_lst = lst[:lst.index(entry)+1]\n",
    "        except:\n",
    "            pass\n",
    "    return sub_lst\n",
    "\n",
    "def json_filename(file):\n",
    "    \"\"\"\n",
    "    return file name for the json file used in the current log file\n",
    "    \"\"\"\n",
    "    for entry in file: \n",
    "        try:\n",
    "            if \"json file:\" in entry[\"msg\"]:\n",
    "                return (entry[\"msg\"].split()[-1])\n",
    "        except:\n",
    "            pass\n",
    "\n",
    "def images_in_log(file):\n",
    "    \"\"\"\n",
    "    split log file on new_image commands\n",
    "    return list containing one section for each image in log file, \n",
    "    each of them starting with a new_image command\n",
    "    \"\"\"\n",
    "    file = crop_list(file)\n",
    "    images = []\n",
    "    i = False\n",
    "    i_prev = False\n",
    "    for entry in [e for e in file if e[\"type\"] == \"new_image\"]:\n",
    "        if i:\n",
    "            i_prev = i\n",
    "            i = file.index(entry)\n",
    "            images.append(file[i_prev:i])\n",
    "        else:\n",
    "            i = file.index(entry)\n",
    "    images.append(file[i:]) # slice from last new_image to end of file\n",
    "    return images"
   ]
  },
  {
   "cell_type": "markdown",
   "metadata": {},
   "source": [
    "## additional functions"
   ]
  },
  {
   "cell_type": "code",
   "execution_count": 40,
   "metadata": {},
   "outputs": [],
   "source": [
    "def extract_data(img_slice):\n",
    "    \"\"\"\n",
    "    extract data from img slice in log file:\n",
    "    return timestamps for beginning and end, duration, tracking data and click with normalised timestamps\n",
    "    \"\"\"\n",
    "    tracking_data = []\n",
    "    clicks = []\n",
    "    \n",
    "    for entry in img_slice: \n",
    "        try: \n",
    "            if entry[\"type\"]==\"mouse_click\" and entry[\"data\"][\"element\"]== \"#overlayButton\":\n",
    "                # get t_begin: timestamp from user click on overlay button\n",
    "                t_begin = entry[\"data\"][\"timestamp\"]\n",
    "            if entry[\"type\"]==\"mouse_positions\":\n",
    "                tracking_data = entry[\"data\"]\n",
    "            if entry[\"type\"] == \"mouse_click\":\n",
    "                clicks.append({\"x\": entry[\"data\"][\"coordinates\"][\"x\"],\n",
    "                                   \"y\": entry[\"data\"][\"coordinates\"][\"y\"],\n",
    "                                   \"element\":entry[\"data\"][\"element\"],\n",
    "                                   \"timestamp\":entry[\"data\"][\"timestamp\"]})\n",
    "        except: \n",
    "            pass\n",
    "    \n",
    "    for entry in img_slice[::-1]:\n",
    "        # last (i.e. correct) mouse click defines t_end\n",
    "        if entry[\"type\"] == \"mouse_click\":\n",
    "            t_end = entry[\"data\"][\"timestamp\"]\n",
    "            break\n",
    "        \n",
    "    for entry in tracking_data + clicks:\n",
    "        # set timestamps relative to t_begin\n",
    "        entry[\"timestamp\"] = entry[\"timestamp\"] - t_begin\n",
    "        \n",
    "    duration = (t_end - t_begin)\n",
    "        \n",
    "    return {\"tracking_data\": tracking_data,\"clicks\": clicks,\"t_begin\": t_begin, \"t_end\": t_end, \"duration\": duration}\n",
    "\n",
    "def data_and_filenames_from_log(file_path):\n",
    "    \"\"\"\n",
    "    read log file and return list with extracted data from log slices and corresponding file names\n",
    "    \"\"\"\n",
    "    \n",
    "    cwd = os.getcwd()\n",
    "    # switch to data path\n",
    "    os.chdir(cwd+\"/data/\")\n",
    "    \n",
    "    # read content from log file\n",
    "    log_content = read_file(file_path)\n",
    "    \n",
    "    # get filename from json file used in this session\n",
    "    json_file = json_filename(log_content)\n",
    "    \n",
    "    json_file_content = read_file(\"json/\"+json_file)\n",
    "    \n",
    "    filenames = []\n",
    "    # iterate through entries in json_file_content\n",
    "    for entry in json_file_content:\n",
    "        try:\n",
    "            # fetch filenames for audio (wav and json) and image files from log file\n",
    "            audio_wav = json_file_content[entry][\"audio_filename\"]\n",
    "            audio_json = os.path.splitext(audio_wav)[0]+\".json\"\n",
    "            img_path = json_file_content[entry][\"image_filename\"]\n",
    "            # append file names to \"filenames\" list\n",
    "            filenames.append({'audio_wav':audio_wav, 'audio_json': audio_json, 'img': img_path})\n",
    "        except:\n",
    "            pass   \n",
    "    \n",
    "    # split log file: separate parts for each image\n",
    "    log_slices = images_in_log(log_content)\n",
    "    # zip log sections with according image and audio file names (wav and json) \n",
    "    img_slices_with_paths = list(zip(log_slices, filenames))\n",
    "\n",
    "    # extract data from image slice and pair with file names\n",
    "    extracted_data_with_paths = [(extract_data(entry[0]),entry[1]) for entry in img_slices_with_paths]\n",
    "    \n",
    "    os.chdir(cwd)\n",
    "    \n",
    "    return (extracted_data_with_paths)\n"
   ]
  },
  {
   "cell_type": "markdown",
   "metadata": {},
   "source": [
    "## read log files from the /data directory"
   ]
  },
  {
   "cell_type": "code",
   "execution_count": 4,
   "metadata": {},
   "outputs": [],
   "source": [
    "cwd = os.getcwd()"
   ]
  },
  {
   "cell_type": "code",
   "execution_count": 5,
   "metadata": {},
   "outputs": [
    {
     "name": "stdout",
     "output_type": "stream",
     "text": [
      "['2018-12-19 10-15-20-meetup 1.log']\n"
     ]
    }
   ],
   "source": [
    "os.chdir(cwd+\"/data/\")\n",
    "files = find_file(\".log\", os.getcwd())\n",
    "print (files)\n",
    "os.chdir(cwd)"
   ]
  },
  {
   "cell_type": "markdown",
   "metadata": {},
   "source": [
    "## extract data"
   ]
  },
  {
   "cell_type": "code",
   "execution_count": 117,
   "metadata": {},
   "outputs": [],
   "source": [
    "preprocessed_data = data_and_filenames_from_log(files[0])[0]\n",
    "log_data, filenames = preprocessed_data"
   ]
  },
  {
   "cell_type": "markdown",
   "metadata": {},
   "source": [
    "## set up textgrid file"
   ]
  },
  {
   "cell_type": "code",
   "execution_count": 118,
   "metadata": {},
   "outputs": [],
   "source": [
    "# https://textgridtools.readthedocs.io/en/stable/api.html\n",
    "\n",
    "# create new textgrid file\n",
    "with open(\"test.textgrid\", \"w\") as tg:\n",
    "    tg.write('File type = \"ooTextFile\"\\nObject class = \"TextGrid\"\\n')\n",
    "    \n",
    "# define new textgrid object\n",
    "textgrid = tgt.core.TextGrid(filename='test.textgrid')\n",
    "\n",
    "# define tiers\n",
    "clicks_tier =  tgt.core.PointTier(start_time=0, end_time=(log_data[\"duration\"]/1000)+100, name='clicks', objects=None)\n",
    "movement_tier = tgt.core.PointTier(start_time=0, end_time=(log_data[\"duration\"]/1000)+100, name='movement', objects=None)\n",
    "words_tier = tgt.core.IntervalTier(start_time=0, end_time=(log_data[\"duration\"]/1000)+100, name='words', objects=None)\n",
    "phonemes_tier = tgt.core.IntervalTier(start_time=0, end_time=(log_data[\"duration\"]/1000)+100, name='phonemes', objects=None)\n",
    "\n",
    "# add tiers to textgrid object\n",
    "textgrid.add_tiers((clicks_tier, movement_tier, words_tier, phonemes_tier))\n",
    "\n",
    "# write changes to file\n",
    "tgt.write_to_file(textgrid, \"test.textgrid\", format='short')"
   ]
  },
  {
   "cell_type": "markdown",
   "metadata": {},
   "source": [
    "## read audio segmentation file"
   ]
  },
  {
   "cell_type": "code",
   "execution_count": 119,
   "metadata": {},
   "outputs": [],
   "source": [
    "audio_segmentation_file = filenames['audio_json']\n",
    "audio_segmentation = read_file(\"data/audio/\"+audio_segmentation_file)\n",
    "words = []\n",
    "phonemes = []\n",
    "for entry in audio_segmentation:\n",
    "    if entry['type'] == 'word':\n",
    "        words.append(entry)\n",
    "    elif entry['type'] == 'phoneme':\n",
    "        phonemes.append(entry)"
   ]
  },
  {
   "cell_type": "markdown",
   "metadata": {},
   "source": [
    "## add data to textgrid"
   ]
  },
  {
   "cell_type": "code",
   "execution_count": 120,
   "metadata": {},
   "outputs": [],
   "source": [
    "for entry in log_data[\"clicks\"]:\n",
    "    # add mouseclicks to clicks tier\n",
    "    clicks_tier.add_point(tgt.core.Point(entry['timestamp']/1000, text=\"{x},{y}\".format(x=entry['x'], y=entry['y'])))\n",
    "for entry in  log_data[\"tracking_data\"]:\n",
    "    # add tracking positions to movement tier\n",
    "    movement_tier.add_point(tgt.core.Point(entry['timestamp']/1000, text=\"{x},{y}\".format(x=entry['x'], y=entry['y'])))\n",
    "for entry in words: \n",
    "    words_tier.add_interval(tgt.core.Interval(entry[\"start\"], entry[\"end\"], text=entry['content']))\n",
    "    pass\n",
    "for entry in phonemes: \n",
    "    phonemes_tier.add_interval(tgt.core.Interval(entry[\"start\"], entry[\"end\"], text=entry['content']))\n",
    "    \n",
    "# save changes to file\n",
    "tgt.write_to_file(textgrid, \"test.textgrid\", format='long')"
   ]
  },
  {
   "cell_type": "markdown",
   "metadata": {},
   "source": [
    "## write changes to textgrid file"
   ]
  },
  {
   "cell_type": "code",
   "execution_count": 121,
   "metadata": {},
   "outputs": [],
   "source": [
    "# convert to appropriate format\n",
    "elan = tgt.io.export_to_elan(textgrid, encoding='utf-8', include_empty_intervals=False, include_point_tiers=True, point_tier_annotation_duration=0.04)\n",
    "long_textgrid =  tgt.io.export_to_long_textgrid(textgrid)\n",
    "\n",
    "# write to file \n",
    "with open(\"test.textgrid\", \"w\") as tg:\n",
    "    tg.write(long_textgrid)"
   ]
  },
  {
   "cell_type": "code",
   "execution_count": 108,
   "metadata": {},
   "outputs": [],
   "source": [
    "cwd = \"/home/simeon/Dokumente/mouse-tracking-experiment/evaluation/\"\n",
    "os.chdir(cwd)"
   ]
  },
  {
   "cell_type": "code",
   "execution_count": null,
   "metadata": {},
   "outputs": [],
   "source": [
    "tgt.core.Interval(start_time, end_time, text='')"
   ]
  }
 ],
 "metadata": {
  "kernelspec": {
   "display_name": "Python 3",
   "language": "python",
   "name": "python3"
  },
  "language_info": {
   "codemirror_mode": {
    "name": "ipython",
    "version": 3
   },
   "file_extension": ".py",
   "mimetype": "text/x-python",
   "name": "python",
   "nbconvert_exporter": "python",
   "pygments_lexer": "ipython3",
   "version": "3.6.5"
  }
 },
 "nbformat": 4,
 "nbformat_minor": 2
}
