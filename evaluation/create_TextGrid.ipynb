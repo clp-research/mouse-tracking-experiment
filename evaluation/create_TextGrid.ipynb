{
 "cells": [
  {
   "cell_type": "code",
   "execution_count": 2,
   "metadata": {},
   "outputs": [],
   "source": [
    "%matplotlib inline\n",
    "import pandas as pd\n",
    "import matplotlib\n",
    "import matplotlib.pyplot as plt\n",
    "import numpy as np\n",
    "from json import load\n",
    "import os\n",
    "import tgt"
   ]
  },
  {
   "cell_type": "markdown",
   "metadata": {},
   "source": [
    "# To Do\n",
    "- include bb and rexp\n",
    "- display buttons in visualization\n",
    "- create multicolor lines (https://matplotlib.org/examples/pylab_examples/multicolored_line.html)\n",
    "    - Zeit durch Alpha-Wert codieren\n",
    "- decrease image saturation to improve line visibility\n",
    "- verweildauer (zeit bis zum nächsten Datenpunkt) codieren - Größe des Punktes?"
   ]
  },
  {
   "cell_type": "code",
   "execution_count": 100,
   "metadata": {},
   "outputs": [],
   "source": [
    "def find_file(suffix, path):\n",
    "    \"\"\"\n",
    "    return the filename of the log file\n",
    "    \"\"\"\n",
    "    result_files = []\n",
    "    for root, dirs, files in os.walk(path):\n",
    "        for file in [f for f in files if f.endswith(suffix)]:\n",
    "            result_files.append(file)\n",
    "    return result_files\n",
    "        \n",
    "def read_file(path):\n",
    "    \"\"\"\n",
    "    return content of log file\n",
    "    \"\"\"\n",
    "    with open(path) as raw_jfile:\n",
    "        content = load(raw_jfile)\n",
    "        return content\n",
    "    \n",
    "def crop_list(lst):\n",
    "    \"\"\"\n",
    "    remove entries from log file before the game starts and after the game is finished\n",
    "    return cropped file as list\n",
    "    \"\"\"\n",
    "    sub_lst = []\n",
    "    for entry in lst:\n",
    "        try:\n",
    "            if entry[\"msg\"] == \"Game started!\" and entry[\"user\"][\"name\"]==\"Image_Click_Bot\":\n",
    "                sub_lst = lst[lst.index(entry):]\n",
    "            if \"no images left\" in entry[\"msg\"].lower() and entry[\"user\"][\"name\"]==\"Image_Click_Bot\":\n",
    "                sub_lst = lst[:lst.index(entry)+1]\n",
    "        except:\n",
    "            pass\n",
    "    return sub_lst\n",
    "\n",
    "def json_filename(file):\n",
    "    for entry in file: \n",
    "        try:\n",
    "            if \"json file:\" in entry[\"msg\"]:\n",
    "                return (entry[\"msg\"].split()[-1])\n",
    "        except:\n",
    "            pass\n",
    "\n",
    "def images_in_log(file):\n",
    "    \"\"\"\n",
    "    split log file on new_image commands\n",
    "    return list containing one section for each image in log file, \n",
    "    each of them starting with a new_image command\n",
    "    \"\"\"\n",
    "    file = crop_list(file)\n",
    "    images = []\n",
    "    i = False\n",
    "    i_prev = False\n",
    "    for entry in [e for e in file if e[\"type\"] == \"new_image\"]:\n",
    "        if i:\n",
    "            i_prev = i\n",
    "            i = file.index(entry)\n",
    "            images.append(file[i_prev:i])\n",
    "        else:\n",
    "            i = file.index(entry)\n",
    "    images.append(file[i:]) # slice from last new_image to end of file\n",
    "    return images\n",
    "\n",
    "def image_data(img_slice):\n",
    "    \"\"\"\n",
    "    extract image filename and tracking coordinates from img section in log file\n",
    "    \"\"\"\n",
    "    buttons = [\"#reportButton\", \"#replayButton\"]\n",
    "    coordinates = []\n",
    "    clicks=[]\n",
    "    button_clicks = []\n",
    "    filename = \"\"\n",
    "    for entry in img_slice: \n",
    "        try: \n",
    "            if entry[\"type\"]==\"new_image\":\n",
    "                filename = entry[\"url\"].split(\"/\")[-1]\n",
    "            if entry[\"type\"]==\"mouse_positions\":\n",
    "                coordinates = entry[\"data\"]\n",
    "            if entry[\"type\"]==\"mouse_click\" and entry[\"element\"]==\"#current-image\":\n",
    "                clicks.append(entry[\"coordinates\"])\n",
    "            if entry[\"type\"]==\"mouse_click\" and entry[\"element\"] in buttons:\n",
    "                button_clicks.append(entry[\"coordinates\"])\n",
    "        except: \n",
    "            pass\n",
    "    return filename,coordinates,clicks,button_clicks"
   ]
  },
  {
   "cell_type": "code",
   "execution_count": 4,
   "metadata": {},
   "outputs": [
    {
     "name": "stdout",
     "output_type": "stream",
     "text": [
      "['2018-12-17 16-23-26-meetup 1.log']\n"
     ]
    }
   ],
   "source": [
    "cwd = os.getcwd()\n",
    "cwd = \"/home/simeon/Dokumente/mouse-tracking-experiment/evaluation/\"\n",
    "os.chdir(cwd+\"/data/\")\n",
    "files = find_file(\".log\", os.getcwd())\n",
    "print (files)\n",
    "log_file = read_file(files[0])\n",
    "json = json_filename(log_file)\n",
    "os.chdir(cwd)"
   ]
  },
  {
   "cell_type": "code",
   "execution_count": 156,
   "metadata": {},
   "outputs": [
    {
     "name": "stdout",
     "output_type": "stream",
     "text": [
      "time base: 1545060211877\n"
     ]
    }
   ],
   "source": [
    "os.chdir(cwd+\"/data/\")\n",
    "\n",
    "json_content = read_file(\"json/\"+json)\n",
    "paths = []\n",
    "for entry in json_content:\n",
    "    try:\n",
    "        audio_wav = json_content[entry][\"audio_filename\"]\n",
    "        audio_json = os.path.splitext(audio_wav)[0]+\".json\"\n",
    "        img_path = json_content[entry][\"image_filename\"]\n",
    "        paths.append({'audio_wav':audio_wav, 'audio_json': audio_json, 'img_path': img_path})\n",
    "    except:\n",
    "        pass\n",
    "\n",
    "imgs = images_in_log(log_file)\n",
    "imgs_with_paths = list(zip(imgs, paths))[:1] # only 1st element in list\n",
    "for entry in imgs_with_paths:\n",
    "    log_data, files = entry\n",
    "    for e in log_data:\n",
    "        if e[\"type\"]==\"mouse_click\" and e[\"data\"][\"element\"] == \"#overlayButton\":\n",
    "            time_base = e[\"data\"][\"timestamp\"]\n",
    "            print (\"time base:\",time_base)\n",
    "    \n",
    "        if e[\"type\"]==\"mouse_positions\": \n",
    "            mouse_positions = e[\"data\"]\n",
    "            \n",
    "for entry in log_data[::-1]:\n",
    "    if entry[\"type\"] == \"mouse_click\":\n",
    "        timestamp_end = entry[\"data\"][\"timestamp\"]\n",
    "        break\n",
    "\n",
    "img_duration = (timestamp_end - time_base)+100\n",
    "\n",
    "mouseclicks = []\n",
    "\n",
    "for entry in log_data:\n",
    "    if entry[\"type\"] == \"mouse_click\":\n",
    "        mouseclicks.append(((entry[\"data\"][\"timestamp\"]-time_base), entry[\"data\"][\"element\"]))\n",
    "\n",
    "#for entry in mouse_positions: \n",
    "    #print (entry[\"timestamp\"])\n",
    "    #print (entry[\"timestamp\"]-time_base)\n",
    "#    pass\n",
    "    \n",
    "os.chdir(cwd)"
   ]
  },
  {
   "cell_type": "code",
   "execution_count": 157,
   "metadata": {},
   "outputs": [],
   "source": [
    "# https://textgridtools.readthedocs.io/en/stable/api.html\n",
    "\n",
    "with open(\"test.textgrid\", \"w\") as tg:\n",
    "    tg.write('File type = \"ooTextFile\"\\nObject class = \"TextGrid\"\\n')\n",
    "    \n",
    "textgrid = tgt.core.TextGrid(filename='test.textgrid')\n",
    "\n",
    "clicks =  tgt.core.PointTier(start_time=0, end_time=img_duration/1000, name='clicks', objects=None)\n",
    "movement = tgt.core.PointTier(start_time=0, end_time=img_duration/1000, name='movement', objects=None)\n",
    "utterances = tgt.core.IntervalTier(start_time=0, end_time=img_duration/1000, name='utterances', objects=None)\n",
    "\n",
    "textgrid.add_tiers((clicks, movement, utterances))\n",
    "\n",
    "tgt.write_to_file(textgrid, \"test.textgrid\", format='short')"
   ]
  },
  {
   "cell_type": "code",
   "execution_count": 158,
   "metadata": {},
   "outputs": [],
   "source": [
    "for entry in mouseclicks:\n",
    "    clicks.add_point(tgt.core.Point(entry[0]/1000, text=entry[1]))"
   ]
  },
  {
   "cell_type": "code",
   "execution_count": 159,
   "metadata": {},
   "outputs": [],
   "source": [
    "tgt.write_to_file(textgrid, \"test.textgrid\", format='short')"
   ]
  },
  {
   "cell_type": "code",
   "execution_count": 7,
   "metadata": {},
   "outputs": [],
   "source": [
    "cwd = \"/home/simeon/Dokumente/mouse-tracking-experiment/evaluation/\"\n",
    "os.chdir(cwd)"
   ]
  }
 ],
 "metadata": {
  "kernelspec": {
   "display_name": "Python 3",
   "language": "python",
   "name": "python3"
  },
  "language_info": {
   "codemirror_mode": {
    "name": "ipython",
    "version": 3
   },
   "file_extension": ".py",
   "mimetype": "text/x-python",
   "name": "python",
   "nbconvert_exporter": "python",
   "pygments_lexer": "ipython3",
   "version": "3.6.5"
  }
 },
 "nbformat": 4,
 "nbformat_minor": 2
}
